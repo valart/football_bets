{
 "cells": [
  {
   "cell_type": "code",
   "execution_count": 1,
   "metadata": {
    "scrolled": false
   },
   "outputs": [],
   "source": [
    "#ALL IMPORTS\n",
    "import numpy as np\n",
    "import pandas as pd"
   ]
  },
  {
   "cell_type": "code",
   "execution_count": 2,
   "metadata": {},
   "outputs": [],
   "source": [
    "# READING DATA\n",
    "season17_18 = pd.read_csv(\"17_18.csv\")\n",
    "season18_19 = pd.read_csv(\"18_19.csv\")\n",
    "season19_20 = pd.read_csv(\"19_20.csv\")"
   ]
  },
  {
   "cell_type": "code",
   "execution_count": 40,
   "metadata": {},
   "outputs": [],
   "source": [
    "class Football:\n",
    "    \n",
    "    def __init__(self, data, name):\n",
    "        self.data=data\n",
    "        self.cleanData()\n",
    "        self.name=name\n",
    "        self.teams = set(self.data.HomeTeam) | set(self.data.AwayTeam)\n",
    "#         self.teams = {i for i in self.data.HomeTeam}\n",
    "#         self.teams.update({i for i in self.data.AwayTeam})\n",
    "    \n",
    "    def getTeamWins(self):\n",
    "        winTeams = dict()\n",
    "        for i in self.teams:\n",
    "            winTeams[i]=0\n",
    "        \n",
    "        for i in range(len(self.data)):\n",
    "            if self.data.FTR[i] == 'A': #Away team won\n",
    "                winTeams[self.data.AwayTeam[i]]+=1\n",
    "            elif self.data.FTR[i] == 'H': #Home team won\n",
    "                winTeams[self.data.HomeTeam[i]]+=1\n",
    "        \n",
    "        return winTeams\n",
    "    \n",
    "    def getTeamLoses(self):\n",
    "        loseTeams = dict()\n",
    "        for i in self.teams:\n",
    "            loseTeams[i]=0\n",
    "        \n",
    "        for i in range(len(self.data)):\n",
    "            if self.data.FTR[i] == 'A': #Away team won\n",
    "                loseTeams[self.data.HomeTeam[i]]+=1\n",
    "            elif self.data.FTR[i] == 'H': #Home team won\n",
    "                loseTeams[self.data.AwayTeam[i]]+=1\n",
    "        \n",
    "        return loseTeams\n",
    "        \n",
    "        return None\n",
    "    \n",
    "    def getTeamDraws(self):\n",
    "        drawTeams = dict()\n",
    "        for i in self.teams:\n",
    "            drawTeams[i] = 0\n",
    "            \n",
    "        for i in range(len(self.data)):\n",
    "            if self.data.FTR[i] == 'D':\n",
    "                drawTeams[self.data.HomeTeam[i]] += 1\n",
    "                drawTeams[self.data.AwayTeam[i]] += 1\n",
    "        \n",
    "        return drawTeams\n",
    "    \n",
    "    def getTeamsTotalGoals(self):\n",
    "        teamTotalGoals = dict()\n",
    "        for i in self.teams:\n",
    "            teamTotalGoals[i] = 0\n",
    "            \n",
    "        for i in range(len(self.data)):\n",
    "            teamTotalGoals[self.data.HomeTeam[i]] += self.data.FTHG[i]\n",
    "            teamTotalGoals[self.data.AwayTeam[i]] += self.data.FTAG[i]\n",
    "            \n",
    "        return teamTotalGoals\n",
    "    \n",
    "    def cleanData(self):\n",
    "        colums = [\"HomeTeam\", \"AwayTeam\", \"FTHG\", \"FTAG\", \"FTR\", \"HTHG\", \"HTAG\", \"HTR\", \"Referee\", \"HS\", \"AS\", \"HST\", \"AST\",\n",
    "                 \"HF\", \"AF\", \"HC\", \"AC\", \"HY\", \"AY\", \"HR\", \"AR\", \"B365H\", \"B365D\", \"B365A\"]\n",
    "        for col in self.data.columns:\n",
    "            contains = False\n",
    "            for j in colums:\n",
    "                if col == j:\n",
    "                    contains = True\n",
    "            if not contains:\n",
    "                self.data = self.data.drop(col, axis=1)\n",
    "    \n",
    "    def Test(self):\n",
    "        print(\"Passed\")"
   ]
  },
  {
   "cell_type": "code",
   "execution_count": 41,
   "metadata": {
    "scrolled": true
   },
   "outputs": [
    {
     "name": "stdout",
     "output_type": "stream",
     "text": [
      "{'Bournemouth': 16, 'Liverpool': 30, 'Burnley': 20, 'Man United': 19, 'Newcastle': 11, 'Tottenham': 21, 'Chelsea': 28, 'Leicester': 31, 'Crystal Palace': 11, 'Everton': 13, 'Aston Villa': 19, 'Brighton': 15, 'West Ham': 16, 'Wolves': 18, 'Norwich': 13, 'Southampton': 13, 'Sheffield United': 16, 'Man City': 37, 'Arsenal': 18, 'Watford': 8}\n",
      "20\n"
     ]
    }
   ],
   "source": [
    "season1718 = Football(season19_20,\"Hooaeg 19-20\")\n",
    "# print(season1718.getTeamDraws())\n",
    "print(season1718.getTeamsTotalGoals())\n",
    "print(len(season1718.getTeamsTotalGoals()))"
   ]
  },
  {
   "cell_type": "code",
   "execution_count": null,
   "metadata": {},
   "outputs": [],
   "source": []
  }
 ],
 "metadata": {
  "kernelspec": {
   "display_name": "Python 3",
   "language": "python",
   "name": "python3"
  },
  "language_info": {
   "codemirror_mode": {
    "name": "ipython",
    "version": 3
   },
   "file_extension": ".py",
   "mimetype": "text/x-python",
   "name": "python",
   "nbconvert_exporter": "python",
   "pygments_lexer": "ipython3",
   "version": "3.7.3"
  }
 },
 "nbformat": 4,
 "nbformat_minor": 2
}
