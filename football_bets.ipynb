{
 "cells": [
  {
   "cell_type": "code",
   "execution_count": 5,
   "metadata": {
    "scrolled": false
   },
   "outputs": [],
   "source": [
    "#ALL IMPORTS\n",
    "import numpy as np\n",
    "import pandas as pd"
   ]
  },
  {
   "cell_type": "code",
   "execution_count": 6,
   "metadata": {},
   "outputs": [],
   "source": [
    "# READING DATA\n",
    "season17_18 = pd.read_csv(\"17_18.csv\")\n",
    "season18_19 = pd.read_csv(\"18_19.csv\")\n",
    "season19_20 = pd.read_csv(\"19_20.csv\")"
   ]
  },
  {
   "cell_type": "code",
   "execution_count": 26,
   "metadata": {},
   "outputs": [],
   "source": [
    "class Football:\n",
    "    \n",
    "    def __init__(self, data, name):\n",
    "        self.data=data\n",
    "        self.name=name\n",
    "    \n",
    "    def getTeamWins(self):\n",
    "        #TODO\n",
    "        return None\n",
    "    \n",
    "    def getTeamLoses(self):\n",
    "        #TODO\n",
    "        return None\n",
    "    \n",
    "    def getTeamDraws(self):\n",
    "        #TODO\n",
    "        return None\n",
    "    \n",
    "    def getTeamsTotalGoals(self):\n",
    "        #TODO\n",
    "        return None\n",
    "    def Test(self):\n",
    "        print(\"Passed\")"
   ]
  },
  {
   "cell_type": "code",
   "execution_count": 28,
   "metadata": {},
   "outputs": [
    {
     "name": "stdout",
     "output_type": "stream",
     "text": [
      "Passed\n"
     ]
    }
   ],
   "source": [
    "season1718 = Football(season17_18,\"Hooaeg 17-18\")\n",
    "season1718.Test()"
   ]
  }
 ],
 "metadata": {
  "kernelspec": {
   "display_name": "Python 3",
   "language": "python",
   "name": "python3"
  },
  "language_info": {
   "codemirror_mode": {
    "name": "ipython",
    "version": 3
   },
   "file_extension": ".py",
   "mimetype": "text/x-python",
   "name": "python",
   "nbconvert_exporter": "python",
   "pygments_lexer": "ipython3",
   "version": "3.7.3"
  }
 },
 "nbformat": 4,
 "nbformat_minor": 2
}
