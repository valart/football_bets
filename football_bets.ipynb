{
 "cells": [
  {
   "cell_type": "code",
   "execution_count": 1,
   "metadata": {
    "scrolled": false
   },
   "outputs": [],
   "source": [
    "#ALL IMPORTS\n",
    "import numpy as np\n",
    "import pandas as pd"
   ]
  },
  {
   "cell_type": "code",
   "execution_count": 2,
   "metadata": {},
   "outputs": [],
   "source": [
    "# READING DATA\n",
    "season17_18 = pd.read_csv(\"17_18.csv\")\n",
    "season18_19 = pd.read_csv(\"18_19.csv\")\n",
    "season19_20 = pd.read_csv(\"19_20.csv\")"
   ]
  },
  {
   "cell_type": "code",
   "execution_count": 9,
   "metadata": {},
   "outputs": [],
   "source": [
    "class Football:\n",
    "    \n",
    "    def __init__(self, data, name):\n",
    "        self.data=data\n",
    "        self.cleanData()\n",
    "        self.name=name\n",
    "        self.teams = {i for i in self.data.HomeTeam}\n",
    "        #temp = {i for i in self.data.AwayTeam}\n",
    "        #self.teams.add(temp)\n",
    "    \n",
    "    def getTeamWins(self):\n",
    "        winTeams = dict()\n",
    "        for i in self.teams:\n",
    "            winTeams[i]=0\n",
    "        \n",
    "        for i in range(len(self.data)):\n",
    "            if self.data.FTR[i] == 'A': #Away team won\n",
    "                winTeams[self.data.AwayTeam[i]]+=1\n",
    "            elif self.data.FTR[i] == 'H': #Home team won\n",
    "                winTeams[self.data.HomeTeam[i]]+=1\n",
    "        \n",
    "        return winTeams\n",
    "    \n",
    "    def getTeamLoses(self):\n",
    "        loseTeams = dict()\n",
    "        for i in self.teams:\n",
    "            loseTeams[i]=0\n",
    "        \n",
    "        for i in range(len(self.data)):\n",
    "            if self.data.FTR[i] == 'A': #Away team won\n",
    "                loseTeams[self.data.HomeTeam[i]]+=1\n",
    "            elif self.data.FTR[i] == 'H': #Home team won\n",
    "                loseTeams[self.data.AwayTeam[i]]+=1\n",
    "        \n",
    "        return loseTeams\n",
    "        \n",
    "        return None\n",
    "    \n",
    "    def getTeamDraws(self):\n",
    "        drawTeams = dict()\n",
    "        for i in self.teams:\n",
    "            drawTeams[i] = 0\n",
    "            \n",
    "        for i in range(len(self.data)):\n",
    "            if self.data.FTR[i] == 'D':\n",
    "                drawTeams[self.data.HomeTeam[i]] += 1\n",
    "                drawTeams[self.data.AwayTeam[i]] += 1\n",
    "        \n",
    "        return drawTeams\n",
    "    \n",
    "    def getTeamsTotalGoals(self):\n",
    "        teamTotalGoals = dict()\n",
    "        for i in self.teams:\n",
    "            teamTotalGoals[i] = 0\n",
    "            \n",
    "        for i in range(len(self.data)):\n",
    "            teamTotalGoals[self.data.HomeTeam[i]] += self.data.FTHG\n",
    "            teamTotalGoals[self.data.AwayTeam[i]] += self.data.FTAG\n",
    "            \n",
    "        return teamTotalGoals\n",
    "    \n",
    "    def cleanData(self):\n",
    "        colums = [\"HomeTeam\", \"AwayTeam\", \"FTHG\", \"FTAG\", \"FTR\", \"HTHG\", \"HTAG\", \"HTR\", \"Referee\", \"HS\", \"AS\", \"HST\", \"AST\",\n",
    "                 \"HF\", \"AF\", \"HC\", \"AC\", \"HY\", \"AY\", \"HR\", \"AR\", \"B365H\", \"B365D\", \"B365A\"]\n",
    "        for col in self.data.columns:\n",
    "            contains = False\n",
    "            for j in colums:\n",
    "                if col == j:\n",
    "                    contains = True\n",
    "            if not contains:\n",
    "                self.data = self.data.drop(col, axis=1)\n",
    "    \n",
    "    def Test(self):\n",
    "        print(\"Passed\")"
   ]
  },
  {
   "cell_type": "code",
   "execution_count": 10,
   "metadata": {},
   "outputs": [
    {
     "name": "stdout",
     "output_type": "stream",
     "text": [
      "{'Bournemouth': 5, 'Liverpool': 0, 'Burnley': 5, 'Man United': 4, 'Newcastle': 6, 'Tottenham': 4, 'Chelsea': 3, 'Leicester': 2, 'Everton': 7, 'Crystal Palace': 6, 'Aston Villa': 7, 'Brighton': 6, 'West Ham': 6, 'Wolves': 2, 'Norwich': 9, 'Southampton': 8, 'Sheffield United': 3, 'Man City': 3, 'Arsenal': 3, 'Watford': 7}\n"
     ]
    }
   ],
   "source": [
    "season1718 = Football(season19_20,\"Hooaeg 19-20\")\n",
    "print(season1718.)"
   ]
  },
  {
   "cell_type": "code",
   "execution_count": null,
   "metadata": {},
   "outputs": [],
   "source": []
  }
 ],
 "metadata": {
  "kernelspec": {
   "display_name": "Python 3",
   "language": "python",
   "name": "python3"
  },
  "language_info": {
   "codemirror_mode": {
    "name": "ipython",
    "version": 3
   },
   "file_extension": ".py",
   "mimetype": "text/x-python",
   "name": "python",
   "nbconvert_exporter": "python",
   "pygments_lexer": "ipython3",
   "version": "3.7.3"
  }
 },
 "nbformat": 4,
 "nbformat_minor": 2
}
