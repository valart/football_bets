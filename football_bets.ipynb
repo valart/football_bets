{
 "cells": [
  {
   "cell_type": "code",
   "execution_count": 1,
   "metadata": {
    "scrolled": false
   },
   "outputs": [],
   "source": [
    "#ALL IMPORTS\n",
    "import numpy as np\n",
    "import pandas as pd"
   ]
  },
  {
   "cell_type": "code",
   "execution_count": 2,
   "metadata": {},
   "outputs": [],
   "source": [
    "# READING DATA\n",
    "season17_18 = pd.read_csv(\"17_18.csv\")\n",
    "season18_19 = pd.read_csv(\"18_19.csv\")\n",
    "season19_20 = pd.read_csv(\"19_20.csv\")"
   ]
  },
  {
   "cell_type": "code",
   "execution_count": 4,
   "metadata": {},
   "outputs": [],
   "source": [
    "class Football:\n",
    "    \n",
    "    def __init__(self, data, name):\n",
    "        self.data=data\n",
    "        self.cleanData()\n",
    "        self.name=name\n",
    "        self.teams = set(self.data.HomeTeam) | set(self.data.AwayTeam)\n",
    "#         self.teams = {i for i in self.data.HomeTeam}\n",
    "#         self.teams.update({i for i in self.data.AwayTeam})\n",
    "    \n",
    "    def getTeamWins(self):\n",
    "        winTeams = dict()\n",
    "        for i in self.teams:\n",
    "            winTeams[i]=0\n",
    "        \n",
    "        for i in range(len(self.data)):\n",
    "            if self.data.FTR[i] == 'A': #Away team won\n",
    "                winTeams[self.data.AwayTeam[i]]+=1\n",
    "            elif self.data.FTR[i] == 'H': #Home team won\n",
    "                winTeams[self.data.HomeTeam[i]]+=1\n",
    "        \n",
    "        return winTeams\n",
    "    \n",
    "    def getTeamLoses(self):\n",
    "        loseTeams = dict()\n",
    "        for i in self.teams:\n",
    "            loseTeams[i]=0\n",
    "        \n",
    "        for i in range(len(self.data)):\n",
    "            if self.data.FTR[i] == 'A': #Away team won\n",
    "                loseTeams[self.data.HomeTeam[i]]+=1\n",
    "            elif self.data.FTR[i] == 'H': #Home team won\n",
    "                loseTeams[self.data.AwayTeam[i]]+=1\n",
    "        \n",
    "        return loseTeams\n",
    "        \n",
    "        return None\n",
    "    \n",
    "    def getTeamDraws(self):\n",
    "        drawTeams = dict()\n",
    "        for i in self.teams:\n",
    "            drawTeams[i] = 0\n",
    "            \n",
    "        for i in range(len(self.data)):\n",
    "            if self.data.FTR[i] == 'D':\n",
    "                drawTeams[self.data.HomeTeam[i]] += 1\n",
    "                drawTeams[self.data.AwayTeam[i]] += 1\n",
    "        \n",
    "        return drawTeams\n",
    "    \n",
    "    def getTeamGames(self): #How many games were played by each team\n",
    "        gamesCount = dict()\n",
    "        for i in self.teams:\n",
    "            gamesCount[i] = 0\n",
    "        for i in range(len(self.data)):\n",
    "            gamesCount[self.data.HomeTeam[i]]+=1\n",
    "            gamesCount[self.data.AwayTeam[i]]+=1\n",
    "        return gamesCount\n",
    "    \n",
    "    def getTeamsTotalGoals(self):\n",
    "        teamTotalGoals = dict()\n",
    "        for i in self.teams:\n",
    "            teamTotalGoals[i] = 0\n",
    "            \n",
    "        for i in range(len(self.data)):\n",
    "            teamTotalGoals[self.data.HomeTeam[i]] += self.data.FTHG[i]\n",
    "            teamTotalGoals[self.data.AwayTeam[i]] += self.data.FTAG[i]\n",
    "            \n",
    "        return teamTotalGoals\n",
    "    \n",
    "    def cleanData(self):\n",
    "        colums = [\"HomeTeam\", \"AwayTeam\", \"FTHG\", \"FTAG\", \"FTR\", \"HTHG\", \"HTAG\", \"HTR\", \"Referee\", \"HS\", \"AS\", \"HST\", \"AST\",\n",
    "                 \"HF\", \"AF\", \"HC\", \"AC\", \"HY\", \"AY\", \"HR\", \"AR\", \"B365H\", \"B365D\", \"B365A\"]\n",
    "        for col in self.data.columns:\n",
    "            contains = False\n",
    "            for j in colums:\n",
    "                if col == j:\n",
    "                    contains = True\n",
    "            if not contains:\n",
    "                self.data = self.data.drop(col, axis=1)\n",
    "    \n",
    "    def getWrongPrediction(self):\n",
    "        #TODO find matches were odds and match results were not equal\n",
    "        pass\n",
    "    \n",
    "    def showTabel(self):\n",
    "        wins=[i for i in self.getTeamWins().values()]\n",
    "        loses=[i for i in self.getTeamLoses().values()]\n",
    "        draws=[i for i in self.getTeamDraws().values()]\n",
    "        games=[i for i in self.getTeamGames().values()]\n",
    "        tabel = {'Teams': list(self.teams),\n",
    "                 'Wins': wins,\n",
    "                 'Loses': loses,\n",
    "                 'Draws': draws,\n",
    "                 'Games': games}\n",
    "        df = pd.DataFrame(tabel)\n",
    "        df=df.sort_values(by=['Wins'],ascending=False)\n",
    "        df=df.to_string(index=False)\n",
    "        print(df)"
   ]
  },
  {
   "cell_type": "code",
   "execution_count": 5,
   "metadata": {
    "scrolled": true
   },
   "outputs": [
    {
     "name": "stdout",
     "output_type": "stream",
     "text": [
      "            Teams  Wins  Loses  Draws  Games\n",
      "        Liverpool    12      0      1     13\n",
      "        Leicester     9      2      2     13\n",
      "         Man City     9      3      1     13\n",
      "          Chelsea     8      3      2     13\n",
      "          Burnley     5      5      3     13\n",
      "          Arsenal     4      3      6     13\n",
      "   Crystal Palace     4      6      3     13\n",
      "         Brighton     4      6      3     13\n",
      "      Aston Villa     4      7      2     13\n",
      "          Everton     4      7      2     13\n",
      " Sheffield United     4      3      6     13\n",
      "       Man United     4      4      5     13\n",
      "        Newcastle     4      6      3     13\n",
      "      Bournemouth     4      5      4     13\n",
      "           Wolves     4      2      7     13\n",
      "        Tottenham     4      4      5     13\n",
      "          Norwich     3      9      1     13\n",
      "         West Ham     3      6      4     13\n",
      "      Southampton     2      8      3     13\n",
      "          Watford     1      7      5     13\n"
     ]
    }
   ],
   "source": [
    "\n",
    "season1718 = Football(season19_20,\"Hooaeg 19-20\")\n",
    "season1718.showTabel()"
   ]
  },
  {
   "cell_type": "code",
   "execution_count": null,
   "metadata": {},
   "outputs": [],
   "source": []
  }
 ],
 "metadata": {
  "kernelspec": {
   "display_name": "Python 3",
   "language": "python",
   "name": "python3"
  },
  "language_info": {
   "codemirror_mode": {
    "name": "ipython",
    "version": 3
   },
   "file_extension": ".py",
   "mimetype": "text/x-python",
   "name": "python",
   "nbconvert_exporter": "python",
   "pygments_lexer": "ipython3",
   "version": "3.7.3"
  }
 },
 "nbformat": 4,
 "nbformat_minor": 2
}
