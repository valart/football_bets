{
 "cells": [
  {
   "cell_type": "code",
   "execution_count": 1,
   "metadata": {
    "scrolled": false
   },
   "outputs": [],
   "source": [
    "#ALL IMPORTS\n",
    "import numpy as np\n",
    "import pandas as pd"
   ]
  },
  {
   "cell_type": "code",
   "execution_count": 2,
   "metadata": {},
   "outputs": [],
   "source": [
    "# READING DATA\n",
    "season17_18 = pd.read_csv(\"17_18.csv\")\n",
    "season18_19 = pd.read_csv(\"18_19.csv\")\n",
    "season19_20 = pd.read_csv(\"19_20.csv\")"
   ]
  },
  {
   "cell_type": "code",
   "execution_count": 18,
   "metadata": {},
   "outputs": [],
   "source": [
    "class Football:\n",
    "    \n",
    "    def __init__(self, data, name):\n",
    "        self.data=data\n",
    "        self.name=name\n",
    "        self.teams = {i for i in self.data.HomeTeam}\n",
    "    \n",
    "    def getTeamWins(self):\n",
    "        winTeams = dict()\n",
    "        for i in self.teams:\n",
    "            winTeams[i]=0\n",
    "        \n",
    "        for i in range(len(self.data)):\n",
    "            if self.data.FTR[i] == 'A': #Away team won\n",
    "                winTeams[self.data.AwayTeam[i]]+=1\n",
    "            elif self.data.FTR[i] == 'H': #Home team won\n",
    "                winTeams[self.data.HomeTeam[i]]+=1\n",
    "        \n",
    "        return winTeams\n",
    "    \n",
    "    def getTeamLoses(self):\n",
    "        loseTeams = dict()\n",
    "        for i in self.teams:\n",
    "            loseTeams[i]=0\n",
    "        \n",
    "        for i in range(len(self.data)):\n",
    "            if self.data.FTR[i] == 'A': #Away team won\n",
    "                loseTeams[self.data.HomeTeam[i]]+=1\n",
    "            elif self.data.FTR[i] == 'H': #Home team won\n",
    "                loseTeams[self.data.AwayTeam[i]]+=1\n",
    "        \n",
    "        return loseTeams\n",
    "        \n",
    "        return None\n",
    "    \n",
    "    def getTeamDraws(self):\n",
    "        drawTeams = dict()\n",
    "        for i in self.teams:\n",
    "            drawTeams[i] = 0\n",
    "            \n",
    "        for i in range(len(self.data)):\n",
    "            if self.data.FTR[i] == 'D':\n",
    "                drawTeams[self.data.HomeTeam[i]] += 1\n",
    "                drawTeams[self.data.AwayTeam[i]] += 1\n",
    "        \n",
    "        return drawTeams\n",
    "    \n",
    "    def getTeamsTotalGoals(self):\n",
    "        #TODO\n",
    "        teamTotalGoals = dict()\n",
    "        for i in self.teams:\n",
    "            teamTotalGoals[i] = 0\n",
    "            \n",
    "        for i in range(len(self.data)):\n",
    "            if self.data.FTHG\n",
    "            \n",
    "        return None\n",
    "    \n",
    "    def Test(self):\n",
    "        print(\"Passed\")"
   ]
  },
  {
   "cell_type": "code",
   "execution_count": 19,
   "metadata": {},
   "outputs": [
    {
     "name": "stdout",
     "output_type": "stream",
     "text": [
      "{'Liverpool': 5, 'Man United': 7, 'Everton': 15, 'Watford': 19, 'West Brom': 19, 'Crystal Palace': 16, 'Tottenham': 7, 'Huddersfield': 19, 'Man City': 2, 'Leicester': 15, 'Brighton': 16, 'Bournemouth': 16, 'Swansea': 21, 'Newcastle': 18, 'Arsenal': 13, 'West Ham': 16, 'Southampton': 16, 'Burnley': 12, 'Stoke': 19, 'Chelsea': 10}\n"
     ]
    }
   ],
   "source": [
    "season1718 = Football(season17_18,\"Hooaeg 17-18\")\n",
    "print(season1718.getTeamLoses())"
   ]
  }
 ],
 "metadata": {
  "kernelspec": {
   "display_name": "Python 3",
   "language": "python",
   "name": "python3"
  },
  "language_info": {
   "codemirror_mode": {
    "name": "ipython",
    "version": 3
   },
   "file_extension": ".py",
   "mimetype": "text/x-python",
   "name": "python",
   "nbconvert_exporter": "python",
   "pygments_lexer": "ipython3",
   "version": "3.7.3"
  }
 },
 "nbformat": 4,
 "nbformat_minor": 2
}
